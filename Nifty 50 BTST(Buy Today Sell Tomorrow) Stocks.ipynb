{
 "cells": [
  {
   "cell_type": "code",
   "execution_count": 7,
   "id": "303e853e",
   "metadata": {},
   "outputs": [],
   "source": [
    "import pandas as pd\n",
    "import yfinance as yf\n",
    "import calendar\n",
    "import requests\n",
    "import ffn\n",
    "import numpy as np\n",
    "from tqdm import tqdm"
   ]
  },
  {
   "cell_type": "code",
   "execution_count": 2,
   "id": "fc4f2320",
   "metadata": {},
   "outputs": [],
   "source": [
    "nifty_50_symbols ={'ADANIENT',\n",
    " 'ADANIPORTS',\n",
    " 'AMBUJACEM',\n",
    " 'APOLLOHOSP',\n",
    " 'ASIANPAINT',\n",
    " 'AUROPHARMA',\n",
    " 'AXISBANK',\n",
    " 'BAJAJ-AUTO',\n",
    " 'BAJAJFINSV',\n",
    " 'BAJFINANCE',\n",
    " 'BHARTIARTL',\n",
    " 'BOSCHLTD',\n",
    " 'BPCL',\n",
    " 'BRITANNIA',\n",
    " 'CIPLA',\n",
    " 'COALINDIA',\n",
    " 'DIVISLAB',\n",
    " 'DRREDDY',\n",
    " 'EICHERMOT',\n",
    " 'GAIL',\n",
    " 'GRASIM',\n",
    " 'HCLTECH',\n",
    " 'HDFC',\n",
    " 'HDFCBANK',\n",
    " 'HDFCLIFE',\n",
    " 'HEROMOTOCO',\n",
    " 'HINDALCO',\n",
    " 'HINDPETRO',\n",
    " 'HINDUNILVR',\n",
    " 'IBULHSGFIN',\n",
    " 'ICICIBANK',\n",
    " 'INDUSINDBK',\n",
    " 'INFRATEL',\n",
    " 'INFY',\n",
    " 'IOC',\n",
    " 'ITC',\n",
    " 'JSWSTEEL',\n",
    " 'KOTAKBANK',\n",
    " 'LT',\n",
    " 'LUPIN',\n",
    " 'M&M',\n",
    " 'MARUTI',\n",
    " 'NESTLEIND',\n",
    " 'NTPC',\n",
    " 'ONGC',\n",
    " 'POWERGRID',\n",
    " 'RELIANCE',\n",
    " 'SBILIFE',\n",
    " 'SBIN',\n",
    " 'SHREECEM',\n",
    " 'SUNPHARMA',\n",
    " 'TATACONSUM',\n",
    " 'TATAMOTORS',\n",
    " 'TATASTEEL',\n",
    " 'TCS',\n",
    " 'TECHM',\n",
    " 'TITAN',\n",
    " 'ULTRACEMCO',\n",
    " 'UPL',\n",
    " 'VEDL',\n",
    " 'WIPRO',\n",
    " 'YESBANK',\n",
    " 'ZEEL'}"
   ]
  },
  {
   "cell_type": "code",
   "execution_count": 5,
   "id": "c6cdd87d",
   "metadata": {},
   "outputs": [],
   "source": [
    "# above are the all the list of stocks in nifty from 2018 - count 63\n",
    "#https://www.niftyindices.com/Indices_-_Market_Capitalisation_and_Weightage/indices_dataFeb2022.zip\"\n",
    "#downloaded from above link by replacing month and year"
   ]
  },
  {
   "cell_type": "code",
   "execution_count": 6,
   "id": "552aa707",
   "metadata": {},
   "outputs": [],
   "source": [
    "result = pd.DataFrame(columns=[\n",
    "    \"Symbol\",\"Date\",\"year\",\"month\",\"move\",\"full_move\",\"open_high\",\n",
    "    \"next_day_open\",\"close_to_next_day_open\",\"nextdayopen_high\",\n",
    "    \"nextdaymove\",\"nextday_full_move\",\"Volume\",\"Close\",'next_day_close'\n",
    "    \n",
    "])"
   ]
  },
  {
   "cell_type": "code",
   "execution_count": 8,
   "id": "6f5c0e2d",
   "metadata": {},
   "outputs": [],
   "source": [
    "result = pd.DataFrame()"
   ]
  },
  {
   "cell_type": "code",
   "execution_count": 9,
   "id": "fc092f1a",
   "metadata": {},
   "outputs": [
    {
     "name": "stderr",
     "output_type": "stream",
     "text": [
      " 83%|█████████████████████████████████████████████████████████▊            | 52/63 [00:23<00:04,  2.68it/s]"
     ]
    },
    {
     "name": "stdout",
     "output_type": "stream",
     "text": [
      "\n",
      "1 Failed download:\n",
      "- INFRATEL.NS: No data found, symbol may be delisted\n"
     ]
    },
    {
     "name": "stderr",
     "output_type": "stream",
     "text": [
      "100%|██████████████████████████████████████████████████████████████████████| 63/63 [00:28<00:00,  2.25it/s]\n"
     ]
    }
   ],
   "source": [
    "for name in tqdm(nifty_50_symbols):\n",
    "    try:\n",
    "        df = yf.download(name+\".NS\",interval='1d',progress=False,start=\"2015-01-01\")\n",
    "        df['year'] = df.index.year\n",
    "        df['month'] = df.index.month\n",
    "        df = df.reset_index()\n",
    "        df['full_move'] = (df['High']/df['Low']-1)*100\n",
    "        df['move'] = (df['Close']/df['Open']-1)*100\n",
    "        df['open_high'] = (df['High']/df['Open']-1)*100\n",
    "        df['next_day_open'] = df.Open.shift(-1)\n",
    "        df['close_to_next_day_open'] = (df['next_day_open']/df['Close']-1)*100\n",
    "        df['nextdayopen_high'] = df.open_high.shift(-1)\n",
    "        df['nextdaymove'] = df.move.shift(-1)\n",
    "        df['nextday_full_move'] = df.full_move.shift(-1)\n",
    "        df['next_day_close'] = df.Close.shift(-1)\n",
    "        idx = df[df.move>5].index.values\n",
    "        df.loc[:,'Symbol'] = name\n",
    "        result = pd.concat([result, df[[\"Symbol\",\"Date\",\"year\",\"month\",\"move\",\"full_move\",\"open_high\",\n",
    "        \"next_day_open\",\"close_to_next_day_open\",\"nextdayopen_high\",\n",
    "        \"nextdaymove\",\"nextday_full_move\",\"Volume\",\"Close\",'next_day_close']]])\n",
    "        #break\n",
    "    except:\n",
    "        pass"
   ]
  },
  {
   "cell_type": "code",
   "execution_count": 10,
   "id": "26c3431d",
   "metadata": {},
   "outputs": [
    {
     "data": {
      "text/plain": [
       "(1538, 16)"
      ]
     },
     "execution_count": 10,
     "metadata": {},
     "output_type": "execute_result"
    }
   ],
   "source": [
    "#this will give list of stocked moved by 5% that day\n",
    "result = result[(result.move>5)].reset_index()\n",
    "result.shape"
   ]
  },
  {
   "cell_type": "code",
   "execution_count": 11,
   "id": "77784397",
   "metadata": {},
   "outputs": [],
   "source": [
    "#consider the dates where we have only 5 or lesser trades\n",
    "dates = result.groupby(['Date'])['Symbol'].count().sort_values(ascending=False)[result.groupby(['Date'])['Symbol'].count().sort_values(ascending=False)<=5].index"
   ]
  },
  {
   "cell_type": "code",
   "execution_count": 12,
   "id": "fba40e93",
   "metadata": {},
   "outputs": [
    {
     "data": {
      "text/plain": [
       "685"
      ]
     },
     "execution_count": 12,
     "metadata": {},
     "output_type": "execute_result"
    }
   ],
   "source": [
    "dates = list(dates)\n",
    "len(dates)"
   ]
  },
  {
   "cell_type": "code",
   "execution_count": 13,
   "id": "5226e572",
   "metadata": {},
   "outputs": [],
   "source": [
    "result = result[(result.Date.isin(dates))].reset_index()"
   ]
  },
  {
   "cell_type": "code",
   "execution_count": 14,
   "id": "ef1ab555",
   "metadata": {},
   "outputs": [],
   "source": [
    "#invest 100000 on each stock(very few days we invest 5lakshs rest days on average we will have only 1 or 2 trades)\n",
    "result['qty'] = np.int64(100000/result['Close'])"
   ]
  },
  {
   "cell_type": "code",
   "execution_count": 15,
   "id": "47347195",
   "metadata": {},
   "outputs": [],
   "source": [
    "result['Investment'] = result['qty']*result['Close']"
   ]
  },
  {
   "cell_type": "code",
   "execution_count": 16,
   "id": "0ce12429",
   "metadata": {},
   "outputs": [],
   "source": [
    "#considering i square it off at next day open\n",
    "result[\"Profit\"] = result['next_day_open']*result['qty'] - result['Close']*result['qty']"
   ]
  },
  {
   "cell_type": "code",
   "execution_count": 17,
   "id": "f943b1fe",
   "metadata": {},
   "outputs": [],
   "source": [
    "trades_per_day = result.groupby(['Date']).Symbol.count().reset_index()\n",
    "capital_per_day = result.groupby(['Date']).Investment.sum().reset_index()\n",
    "profit_per_day = result.groupby(['Date']).Profit.sum().reset_index()"
   ]
  },
  {
   "cell_type": "code",
   "execution_count": 18,
   "id": "513069bf",
   "metadata": {},
   "outputs": [],
   "source": [
    "final = pd.merge(pd.merge(trades_per_day,capital_per_day),profit_per_day)"
   ]
  },
  {
   "cell_type": "code",
   "execution_count": 21,
   "id": "e1ebe35e",
   "metadata": {},
   "outputs": [],
   "source": [
    "final.columns = ['Date','No Of Symbols Bought','Investment','Profit']\n",
    "final['return'] = (final.Profit/final.Investment)*100"
   ]
  },
  {
   "cell_type": "code",
   "execution_count": 22,
   "id": "54d4774f",
   "metadata": {},
   "outputs": [
    {
     "data": {
      "text/html": [
       "<div>\n",
       "<style scoped>\n",
       "    .dataframe tbody tr th:only-of-type {\n",
       "        vertical-align: middle;\n",
       "    }\n",
       "\n",
       "    .dataframe tbody tr th {\n",
       "        vertical-align: top;\n",
       "    }\n",
       "\n",
       "    .dataframe thead th {\n",
       "        text-align: right;\n",
       "    }\n",
       "</style>\n",
       "<table border=\"1\" class=\"dataframe\">\n",
       "  <thead>\n",
       "    <tr style=\"text-align: right;\">\n",
       "      <th></th>\n",
       "      <th>Date</th>\n",
       "      <th>No Of Symbols Bought</th>\n",
       "      <th>Investment</th>\n",
       "      <th>Profit</th>\n",
       "      <th>return</th>\n",
       "    </tr>\n",
       "  </thead>\n",
       "  <tbody>\n",
       "    <tr>\n",
       "      <th>0</th>\n",
       "      <td>2015-01-02</td>\n",
       "      <td>1</td>\n",
       "      <td>99912.801270</td>\n",
       "      <td>364.000000</td>\n",
       "      <td>0.364318</td>\n",
       "    </tr>\n",
       "    <tr>\n",
       "      <th>1</th>\n",
       "      <td>2015-01-07</td>\n",
       "      <td>1</td>\n",
       "      <td>99787.500000</td>\n",
       "      <td>717.498779</td>\n",
       "      <td>0.719027</td>\n",
       "    </tr>\n",
       "    <tr>\n",
       "      <th>2</th>\n",
       "      <td>2015-01-09</td>\n",
       "      <td>1</td>\n",
       "      <td>99428.997192</td>\n",
       "      <td>333.502808</td>\n",
       "      <td>0.335418</td>\n",
       "    </tr>\n",
       "    <tr>\n",
       "      <th>3</th>\n",
       "      <td>2015-01-14</td>\n",
       "      <td>1</td>\n",
       "      <td>99632.277100</td>\n",
       "      <td>1690.919678</td>\n",
       "      <td>1.697161</td>\n",
       "    </tr>\n",
       "    <tr>\n",
       "      <th>4</th>\n",
       "      <td>2015-01-15</td>\n",
       "      <td>2</td>\n",
       "      <td>198397.601562</td>\n",
       "      <td>1808.796875</td>\n",
       "      <td>0.911703</td>\n",
       "    </tr>\n",
       "  </tbody>\n",
       "</table>\n",
       "</div>"
      ],
      "text/plain": [
       "        Date  No Of Symbols Bought     Investment       Profit    return\n",
       "0 2015-01-02                     1   99912.801270   364.000000  0.364318\n",
       "1 2015-01-07                     1   99787.500000   717.498779  0.719027\n",
       "2 2015-01-09                     1   99428.997192   333.502808  0.335418\n",
       "3 2015-01-14                     1   99632.277100  1690.919678  1.697161\n",
       "4 2015-01-15                     2  198397.601562  1808.796875  0.911703"
      ]
     },
     "execution_count": 22,
     "metadata": {},
     "output_type": "execute_result"
    }
   ],
   "source": [
    "final.head()"
   ]
  },
  {
   "cell_type": "code",
   "execution_count": null,
   "id": "f80684c9",
   "metadata": {},
   "outputs": [],
   "source": []
  },
  {
   "cell_type": "code",
   "execution_count": 23,
   "id": "f38d46c3",
   "metadata": {},
   "outputs": [
    {
     "data": {
      "text/plain": [
       "497646.89084243774"
      ]
     },
     "execution_count": 23,
     "metadata": {},
     "output_type": "execute_result"
    }
   ],
   "source": [
    "final['Profit'].sum()"
   ]
  },
  {
   "cell_type": "code",
   "execution_count": 24,
   "id": "f2ae5ed1",
   "metadata": {},
   "outputs": [],
   "source": [
    "final['Date'] = pd.to_datetime(final['Date'])\n",
    "final = final.sort_values(['Date']).reset_index()\n",
    "final['year'] = final.Date.dt.year\n",
    "final['month'] = final.Date.dt.month"
   ]
  },
  {
   "cell_type": "code",
   "execution_count": 25,
   "id": "e63cb6a3",
   "metadata": {},
   "outputs": [
    {
     "data": {
      "text/plain": [
       "year\n",
       "2015     44440.352829\n",
       "2016     26849.395905\n",
       "2017     29279.291924\n",
       "2018     18233.485596\n",
       "2019     97068.162334\n",
       "2020    161162.660727\n",
       "2021     73633.952606\n",
       "2022     46979.588923\n",
       "Name: Profit, dtype: float64"
      ]
     },
     "execution_count": 25,
     "metadata": {},
     "output_type": "execute_result"
    }
   ],
   "source": [
    "final.groupby(['year']).Profit.sum()"
   ]
  },
  {
   "cell_type": "code",
   "execution_count": 28,
   "id": "38d4f9c1",
   "metadata": {},
   "outputs": [
    {
     "data": {
      "text/plain": [
       "160077.11877268075"
      ]
     },
     "execution_count": 28,
     "metadata": {},
     "output_type": "execute_result"
    }
   ],
   "source": [
    "avg_investment = final.Investment.mean()\n",
    "avg_investment"
   ]
  },
  {
   "cell_type": "code",
   "execution_count": 29,
   "id": "0a82fec6",
   "metadata": {},
   "outputs": [],
   "source": [
    "final.loc[0,'Profit'] = final.loc[0,'Profit'] +200000"
   ]
  },
  {
   "cell_type": "code",
   "execution_count": 30,
   "id": "f3617f79",
   "metadata": {},
   "outputs": [
    {
     "name": "stderr",
     "output_type": "stream",
     "text": [
      "/Users/santhoshk/Library/Python/3.8/lib/python/site-packages/pandas/core/arraylike.py:397: RuntimeWarning: invalid value encountered in log\n",
      "  result = getattr(ufunc, method)(*inputs, **kwargs)\n",
      "/Users/santhoshk/Library/Python/3.8/lib/python/site-packages/ffn/core.py:2299: RuntimeWarning: divide by zero encountered in divide\n",
      "  res = np.divide(er.mean(), std)\n"
     ]
    }
   ],
   "source": [
    "profit = final.groupby(['Date']).Profit.sum()\n",
    "profit = profit.cumsum().copy()\n",
    "stats = profit.calc_stats()"
   ]
  },
  {
   "cell_type": "code",
   "execution_count": 31,
   "id": "62166c30",
   "metadata": {},
   "outputs": [
    {
     "name": "stdout",
     "output_type": "stream",
     "text": [
      "Stats for Profit from 2015-01-02 00:00:00 - 2022-12-29 00:00:00\n",
      "Annual risk-free rate considered: 0.00%\n",
      "Summary:\n",
      "Total Return      Sharpe  CAGR    Max Drawdown\n",
      "--------------  --------  ------  --------------\n",
      "248.19%             4.28  16.90%  -4.22%\n",
      "\n",
      "Annualized Returns:\n",
      "mtd    3m     6m     ytd    1y     3y      5y      10y    incep.\n",
      "-----  -----  -----  -----  -----  ------  ------  -----  --------\n",
      "1.16%  1.08%  3.28%  7.22%  7.22%  19.12%  18.41%  -      16.90%\n",
      "\n",
      "Periodic:\n",
      "        daily    monthly    yearly\n",
      "------  -------  ---------  --------\n",
      "sharpe  4.28     2.12       1.32\n",
      "mean    46.59%   15.42%     16.72%\n",
      "vol     10.88%   7.28%      12.66%\n",
      "skew    0.44     2.45       1.24\n",
      "kurt    10.65    9.66       -0.04\n",
      "best    4.70%    12.60%     38.75%\n",
      "worst   -4.22%   -2.43%     6.07%\n",
      "\n",
      "Drawdowns:\n",
      "max     avg       # days\n",
      "------  ------  --------\n",
      "-4.22%  -0.66%     20.76\n",
      "\n",
      "Misc:\n",
      "---------------  -------\n",
      "avg. up month    1.82%\n",
      "avg. down month  -0.72%\n",
      "up year %        100.00%\n",
      "12m up %         96.47%\n",
      "---------------  -------\n"
     ]
    }
   ],
   "source": [
    "stats.display()"
   ]
  },
  {
   "cell_type": "code",
   "execution_count": 33,
   "id": "7de7e3b8",
   "metadata": {},
   "outputs": [
    {
     "data": {
      "text/html": [
       "<div>\n",
       "<style scoped>\n",
       "    .dataframe tbody tr th:only-of-type {\n",
       "        vertical-align: middle;\n",
       "    }\n",
       "\n",
       "    .dataframe tbody tr th {\n",
       "        vertical-align: top;\n",
       "    }\n",
       "\n",
       "    .dataframe thead th {\n",
       "        text-align: right;\n",
       "    }\n",
       "</style>\n",
       "<table border=\"1\" class=\"dataframe\">\n",
       "  <thead>\n",
       "    <tr style=\"text-align: right;\">\n",
       "      <th></th>\n",
       "      <th>level_0</th>\n",
       "      <th>index</th>\n",
       "      <th>Symbol</th>\n",
       "      <th>Date</th>\n",
       "      <th>year</th>\n",
       "      <th>month</th>\n",
       "      <th>move</th>\n",
       "      <th>full_move</th>\n",
       "      <th>open_high</th>\n",
       "      <th>next_day_open</th>\n",
       "      <th>close_to_next_day_open</th>\n",
       "      <th>nextdayopen_high</th>\n",
       "      <th>nextdaymove</th>\n",
       "      <th>nextday_full_move</th>\n",
       "      <th>Volume</th>\n",
       "      <th>Close</th>\n",
       "      <th>next_day_close</th>\n",
       "      <th>qty</th>\n",
       "      <th>Investment</th>\n",
       "      <th>Profit</th>\n",
       "    </tr>\n",
       "  </thead>\n",
       "  <tbody>\n",
       "    <tr>\n",
       "      <th>0</th>\n",
       "      <td>0</td>\n",
       "      <td>136</td>\n",
       "      <td>INFY</td>\n",
       "      <td>2015-07-21</td>\n",
       "      <td>2015</td>\n",
       "      <td>7</td>\n",
       "      <td>7.502418</td>\n",
       "      <td>11.014493</td>\n",
       "      <td>11.014493</td>\n",
       "      <td>552.500000</td>\n",
       "      <td>-0.687550</td>\n",
       "      <td>0.633484</td>\n",
       "      <td>-0.167419</td>\n",
       "      <td>3.283330</td>\n",
       "      <td>38310112</td>\n",
       "      <td>556.325012</td>\n",
       "      <td>551.575012</td>\n",
       "      <td>179</td>\n",
       "      <td>99582.177185</td>\n",
       "      <td>-684.677185</td>\n",
       "    </tr>\n",
       "    <tr>\n",
       "      <th>1</th>\n",
       "      <td>1</td>\n",
       "      <td>255</td>\n",
       "      <td>INFY</td>\n",
       "      <td>2016-01-14</td>\n",
       "      <td>2016</td>\n",
       "      <td>1</td>\n",
       "      <td>6.285178</td>\n",
       "      <td>9.546168</td>\n",
       "      <td>8.348968</td>\n",
       "      <td>574.000000</td>\n",
       "      <td>1.323919</td>\n",
       "      <td>1.393728</td>\n",
       "      <td>-0.705573</td>\n",
       "      <td>2.325168</td>\n",
       "      <td>30227006</td>\n",
       "      <td>566.500000</td>\n",
       "      <td>569.950012</td>\n",
       "      <td>176</td>\n",
       "      <td>99704.000000</td>\n",
       "      <td>1320.000000</td>\n",
       "    </tr>\n",
       "    <tr>\n",
       "      <th>2</th>\n",
       "      <td>2</td>\n",
       "      <td>466</td>\n",
       "      <td>INFY</td>\n",
       "      <td>2016-11-25</td>\n",
       "      <td>2016</td>\n",
       "      <td>11</td>\n",
       "      <td>5.056692</td>\n",
       "      <td>5.862753</td>\n",
       "      <td>5.862753</td>\n",
       "      <td>489.649994</td>\n",
       "      <td>0.184142</td>\n",
       "      <td>0.423775</td>\n",
       "      <td>0.045952</td>\n",
       "      <td>1.323927</td>\n",
       "      <td>12631380</td>\n",
       "      <td>488.750000</td>\n",
       "      <td>489.875000</td>\n",
       "      <td>204</td>\n",
       "      <td>99705.000000</td>\n",
       "      <td>183.598755</td>\n",
       "    </tr>\n",
       "    <tr>\n",
       "      <th>3</th>\n",
       "      <td>6</td>\n",
       "      <td>1286</td>\n",
       "      <td>INFY</td>\n",
       "      <td>2020-03-24</td>\n",
       "      <td>2020</td>\n",
       "      <td>3</td>\n",
       "      <td>12.988503</td>\n",
       "      <td>15.162840</td>\n",
       "      <td>15.162840</td>\n",
       "      <td>597.000000</td>\n",
       "      <td>1.220755</td>\n",
       "      <td>6.365159</td>\n",
       "      <td>1.541041</td>\n",
       "      <td>12.250307</td>\n",
       "      <td>20027097</td>\n",
       "      <td>589.799988</td>\n",
       "      <td>606.200012</td>\n",
       "      <td>169</td>\n",
       "      <td>99676.197937</td>\n",
       "      <td>1216.802063</td>\n",
       "    </tr>\n",
       "    <tr>\n",
       "      <th>4</th>\n",
       "      <td>7</td>\n",
       "      <td>1348</td>\n",
       "      <td>INFY</td>\n",
       "      <td>2020-06-26</td>\n",
       "      <td>2020</td>\n",
       "      <td>6</td>\n",
       "      <td>5.350605</td>\n",
       "      <td>5.859151</td>\n",
       "      <td>5.829339</td>\n",
       "      <td>735.400024</td>\n",
       "      <td>-1.710771</td>\n",
       "      <td>1.264616</td>\n",
       "      <td>-0.496332</td>\n",
       "      <td>1.999731</td>\n",
       "      <td>26030458</td>\n",
       "      <td>748.200012</td>\n",
       "      <td>731.750000</td>\n",
       "      <td>133</td>\n",
       "      <td>99510.601624</td>\n",
       "      <td>-1702.398376</td>\n",
       "    </tr>\n",
       "    <tr>\n",
       "      <th>...</th>\n",
       "      <td>...</td>\n",
       "      <td>...</td>\n",
       "      <td>...</td>\n",
       "      <td>...</td>\n",
       "      <td>...</td>\n",
       "      <td>...</td>\n",
       "      <td>...</td>\n",
       "      <td>...</td>\n",
       "      <td>...</td>\n",
       "      <td>...</td>\n",
       "      <td>...</td>\n",
       "      <td>...</td>\n",
       "      <td>...</td>\n",
       "      <td>...</td>\n",
       "      <td>...</td>\n",
       "      <td>...</td>\n",
       "      <td>...</td>\n",
       "      <td>...</td>\n",
       "      <td>...</td>\n",
       "      <td>...</td>\n",
       "    </tr>\n",
       "    <tr>\n",
       "      <th>1099</th>\n",
       "      <td>1533</td>\n",
       "      <td>1501</td>\n",
       "      <td>SBIN</td>\n",
       "      <td>2021-02-02</td>\n",
       "      <td>2021</td>\n",
       "      <td>2</td>\n",
       "      <td>5.746034</td>\n",
       "      <td>7.111109</td>\n",
       "      <td>7.111109</td>\n",
       "      <td>333.750000</td>\n",
       "      <td>0.195135</td>\n",
       "      <td>1.842695</td>\n",
       "      <td>0.659180</td>\n",
       "      <td>4.327811</td>\n",
       "      <td>121434166</td>\n",
       "      <td>333.100006</td>\n",
       "      <td>335.950012</td>\n",
       "      <td>300</td>\n",
       "      <td>99930.001831</td>\n",
       "      <td>194.998169</td>\n",
       "    </tr>\n",
       "    <tr>\n",
       "      <th>1100</th>\n",
       "      <td>1534</td>\n",
       "      <td>1503</td>\n",
       "      <td>SBIN</td>\n",
       "      <td>2021-02-04</td>\n",
       "      <td>2021</td>\n",
       "      <td>2</td>\n",
       "      <td>6.190195</td>\n",
       "      <td>8.124432</td>\n",
       "      <td>7.057418</td>\n",
       "      <td>387.000000</td>\n",
       "      <td>8.983383</td>\n",
       "      <td>5.516797</td>\n",
       "      <td>1.576229</td>\n",
       "      <td>6.023630</td>\n",
       "      <td>145203439</td>\n",
       "      <td>355.100006</td>\n",
       "      <td>393.100006</td>\n",
       "      <td>281</td>\n",
       "      <td>99783.101715</td>\n",
       "      <td>8963.898285</td>\n",
       "    </tr>\n",
       "    <tr>\n",
       "      <th>1101</th>\n",
       "      <td>1535</td>\n",
       "      <td>1569</td>\n",
       "      <td>SBIN</td>\n",
       "      <td>2021-05-17</td>\n",
       "      <td>2021</td>\n",
       "      <td>5</td>\n",
       "      <td>5.131727</td>\n",
       "      <td>5.926033</td>\n",
       "      <td>5.708018</td>\n",
       "      <td>390.000000</td>\n",
       "      <td>1.801095</td>\n",
       "      <td>0.653843</td>\n",
       "      <td>-1.987179</td>\n",
       "      <td>3.289041</td>\n",
       "      <td>106555796</td>\n",
       "      <td>383.100006</td>\n",
       "      <td>382.250000</td>\n",
       "      <td>261</td>\n",
       "      <td>99989.101593</td>\n",
       "      <td>1800.898407</td>\n",
       "    </tr>\n",
       "    <tr>\n",
       "      <th>1102</th>\n",
       "      <td>1536</td>\n",
       "      <td>1744</td>\n",
       "      <td>SBIN</td>\n",
       "      <td>2022-01-25</td>\n",
       "      <td>2022</td>\n",
       "      <td>1</td>\n",
       "      <td>5.030617</td>\n",
       "      <td>5.828221</td>\n",
       "      <td>5.612245</td>\n",
       "      <td>503.549988</td>\n",
       "      <td>-2.156813</td>\n",
       "      <td>5.421505</td>\n",
       "      <td>5.044191</td>\n",
       "      <td>5.494826</td>\n",
       "      <td>21791739</td>\n",
       "      <td>514.650024</td>\n",
       "      <td>528.950012</td>\n",
       "      <td>194</td>\n",
       "      <td>99842.104736</td>\n",
       "      <td>-2153.407104</td>\n",
       "    </tr>\n",
       "    <tr>\n",
       "      <th>1103</th>\n",
       "      <td>1537</td>\n",
       "      <td>1745</td>\n",
       "      <td>SBIN</td>\n",
       "      <td>2022-01-27</td>\n",
       "      <td>2022</td>\n",
       "      <td>1</td>\n",
       "      <td>5.044191</td>\n",
       "      <td>5.494826</td>\n",
       "      <td>5.421505</td>\n",
       "      <td>534.000000</td>\n",
       "      <td>0.954719</td>\n",
       "      <td>0.449443</td>\n",
       "      <td>-1.975653</td>\n",
       "      <td>2.876870</td>\n",
       "      <td>35409230</td>\n",
       "      <td>528.950012</td>\n",
       "      <td>523.450012</td>\n",
       "      <td>189</td>\n",
       "      <td>99971.552307</td>\n",
       "      <td>954.447693</td>\n",
       "    </tr>\n",
       "  </tbody>\n",
       "</table>\n",
       "<p>1104 rows × 20 columns</p>\n",
       "</div>"
      ],
      "text/plain": [
       "      level_0  index Symbol       Date  year  month       move  full_move  \\\n",
       "0           0    136   INFY 2015-07-21  2015      7   7.502418  11.014493   \n",
       "1           1    255   INFY 2016-01-14  2016      1   6.285178   9.546168   \n",
       "2           2    466   INFY 2016-11-25  2016     11   5.056692   5.862753   \n",
       "3           6   1286   INFY 2020-03-24  2020      3  12.988503  15.162840   \n",
       "4           7   1348   INFY 2020-06-26  2020      6   5.350605   5.859151   \n",
       "...       ...    ...    ...        ...   ...    ...        ...        ...   \n",
       "1099     1533   1501   SBIN 2021-02-02  2021      2   5.746034   7.111109   \n",
       "1100     1534   1503   SBIN 2021-02-04  2021      2   6.190195   8.124432   \n",
       "1101     1535   1569   SBIN 2021-05-17  2021      5   5.131727   5.926033   \n",
       "1102     1536   1744   SBIN 2022-01-25  2022      1   5.030617   5.828221   \n",
       "1103     1537   1745   SBIN 2022-01-27  2022      1   5.044191   5.494826   \n",
       "\n",
       "      open_high  next_day_open  close_to_next_day_open  nextdayopen_high  \\\n",
       "0     11.014493     552.500000               -0.687550          0.633484   \n",
       "1      8.348968     574.000000                1.323919          1.393728   \n",
       "2      5.862753     489.649994                0.184142          0.423775   \n",
       "3     15.162840     597.000000                1.220755          6.365159   \n",
       "4      5.829339     735.400024               -1.710771          1.264616   \n",
       "...         ...            ...                     ...               ...   \n",
       "1099   7.111109     333.750000                0.195135          1.842695   \n",
       "1100   7.057418     387.000000                8.983383          5.516797   \n",
       "1101   5.708018     390.000000                1.801095          0.653843   \n",
       "1102   5.612245     503.549988               -2.156813          5.421505   \n",
       "1103   5.421505     534.000000                0.954719          0.449443   \n",
       "\n",
       "      nextdaymove  nextday_full_move     Volume       Close  next_day_close  \\\n",
       "0       -0.167419           3.283330   38310112  556.325012      551.575012   \n",
       "1       -0.705573           2.325168   30227006  566.500000      569.950012   \n",
       "2        0.045952           1.323927   12631380  488.750000      489.875000   \n",
       "3        1.541041          12.250307   20027097  589.799988      606.200012   \n",
       "4       -0.496332           1.999731   26030458  748.200012      731.750000   \n",
       "...           ...                ...        ...         ...             ...   \n",
       "1099     0.659180           4.327811  121434166  333.100006      335.950012   \n",
       "1100     1.576229           6.023630  145203439  355.100006      393.100006   \n",
       "1101    -1.987179           3.289041  106555796  383.100006      382.250000   \n",
       "1102     5.044191           5.494826   21791739  514.650024      528.950012   \n",
       "1103    -1.975653           2.876870   35409230  528.950012      523.450012   \n",
       "\n",
       "      qty    Investment       Profit  \n",
       "0     179  99582.177185  -684.677185  \n",
       "1     176  99704.000000  1320.000000  \n",
       "2     204  99705.000000   183.598755  \n",
       "3     169  99676.197937  1216.802063  \n",
       "4     133  99510.601624 -1702.398376  \n",
       "...   ...           ...          ...  \n",
       "1099  300  99930.001831   194.998169  \n",
       "1100  281  99783.101715  8963.898285  \n",
       "1101  261  99989.101593  1800.898407  \n",
       "1102  194  99842.104736 -2153.407104  \n",
       "1103  189  99971.552307   954.447693  \n",
       "\n",
       "[1104 rows x 20 columns]"
      ]
     },
     "execution_count": 33,
     "metadata": {},
     "output_type": "execute_result"
    }
   ],
   "source": [
    "result"
   ]
  },
  {
   "cell_type": "code",
   "execution_count": null,
   "id": "d996d0d5",
   "metadata": {},
   "outputs": [],
   "source": []
  }
 ],
 "metadata": {
  "kernelspec": {
   "display_name": "Python 3 (ipykernel)",
   "language": "python",
   "name": "python3"
  },
  "language_info": {
   "codemirror_mode": {
    "name": "ipython",
    "version": 3
   },
   "file_extension": ".py",
   "mimetype": "text/x-python",
   "name": "python",
   "nbconvert_exporter": "python",
   "pygments_lexer": "ipython3",
   "version": "3.8.9"
  }
 },
 "nbformat": 4,
 "nbformat_minor": 5
}
